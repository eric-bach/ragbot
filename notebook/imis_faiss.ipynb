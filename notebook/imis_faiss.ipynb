{
 "cells": [
  {
   "cell_type": "markdown",
   "metadata": {},
   "source": [
    "# Retrieval Augmented Generation (RAG) with FAISS\n",
    "\n",
    "This example demonstrates the use of Retrieval Augmented Generation (RAG) using Langhchain and FAISS"
   ]
  },
  {
   "cell_type": "markdown",
   "metadata": {},
   "source": [
    "## Install requirements"
   ]
  },
  {
   "cell_type": "code",
   "execution_count": 2,
   "metadata": {},
   "outputs": [
    {
     "name": "stdout",
     "output_type": "stream",
     "text": [
      "Requirement already satisfied: boto3 in c:\\users\\eric.bach.corp\\appdata\\local\\programs\\python\\python310\\lib\\site-packages (1.34.25)\n",
      "Requirement already satisfied: pypdf in c:\\users\\eric.bach.corp\\appdata\\local\\programs\\python\\python310\\lib\\site-packages (4.0.0)\n",
      "Requirement already satisfied: faiss-cpu in c:\\users\\eric.bach.corp\\appdata\\local\\programs\\python\\python310\\lib\\site-packages (1.7.4)\n",
      "Requirement already satisfied: s3transfer<0.11.0,>=0.10.0 in c:\\users\\eric.bach.corp\\appdata\\local\\programs\\python\\python310\\lib\\site-packages (from boto3) (0.10.0)\n",
      "Requirement already satisfied: jmespath<2.0.0,>=0.7.1 in c:\\users\\eric.bach.corp\\appdata\\local\\programs\\python\\python310\\lib\\site-packages (from boto3) (1.0.1)\n",
      "Requirement already satisfied: botocore<1.35.0,>=1.34.25 in c:\\users\\eric.bach.corp\\appdata\\local\\programs\\python\\python310\\lib\\site-packages (from boto3) (1.34.25)\n",
      "Requirement already satisfied: python-dateutil<3.0.0,>=2.1 in c:\\users\\eric.bach.corp\\appdata\\local\\programs\\python\\python310\\lib\\site-packages (from botocore<1.35.0,>=1.34.25->boto3) (2.8.2)\n",
      "Requirement already satisfied: urllib3<2.1,>=1.25.4 in c:\\users\\eric.bach.corp\\appdata\\local\\programs\\python\\python310\\lib\\site-packages (from botocore<1.35.0,>=1.34.25->boto3) (2.0.7)\n",
      "Requirement already satisfied: six>=1.5 in c:\\users\\eric.bach.corp\\appdata\\local\\programs\\python\\python310\\lib\\site-packages (from python-dateutil<3.0.0,>=2.1->botocore<1.35.0,>=1.34.25->boto3) (1.16.0)\n",
      "Note: you may need to restart the kernel to use updated packages.\n"
     ]
    },
    {
     "name": "stderr",
     "output_type": "stream",
     "text": [
      "\n",
      "[notice] A new release of pip is available: 23.0.1 -> 23.3.2\n",
      "[notice] To update, run: python.exe -m pip install --upgrade pip\n"
     ]
    }
   ],
   "source": [
    "pip install boto3 pypdf faiss-cpu"
   ]
  },
  {
   "cell_type": "markdown",
   "metadata": {},
   "source": [
    "## Setup Bedrock\n",
    "\n",
    "Setup Amazon Bedrock client and helper function to format output text."
   ]
  },
  {
   "cell_type": "code",
   "execution_count": 3,
   "metadata": {
    "tags": []
   },
   "outputs": [],
   "source": [
    "import boto3\n",
    "from io import StringIO\n",
    "import sys\n",
    "import textwrap\n",
    "\n",
    "session = boto3.Session(profile_name='bach-dev', region_name='us-east-1')\n",
    "boto3_bedrock = session.client(service_name='bedrock-runtime')\n",
    "\n",
    "def print_ww(*args, width: int = 100, **kwargs):\n",
    "    \"\"\"Like print(), but wraps output to `width` characters (default 100)\"\"\"\n",
    "    buffer = StringIO()\n",
    "    try:\n",
    "        _stdout = sys.stdout\n",
    "        sys.stdout = buffer\n",
    "        print(*args, **kwargs)\n",
    "        output = buffer.getvalue()\n",
    "    finally:\n",
    "        sys.stdout = _stdout\n",
    "    for line in output.splitlines():\n",
    "        print(\"\\n\".join(textwrap.wrap(line, width=width)))"
   ]
  },
  {
   "cell_type": "markdown",
   "metadata": {},
   "source": [
    "## Configure Langchain"
   ]
  },
  {
   "cell_type": "code",
   "execution_count": 4,
   "metadata": {
    "tags": []
   },
   "outputs": [],
   "source": [
    "# We will be using the Titan Embeddings Model to generate our Embeddings.\n",
    "from langchain.embeddings import BedrockEmbeddings\n",
    "from langchain.llms.bedrock import Bedrock\n",
    "\n",
    "# - create the Anthropic Model\n",
    "llm = Bedrock(model_id=\"anthropic.claude-v2\", client=boto3_bedrock, model_kwargs={'max_tokens_to_sample':200})\n",
    "bedrock_embeddings = BedrockEmbeddings(model_id=\"amazon.titan-embed-text-v1\", client=boto3_bedrock)"
   ]
  },
  {
   "cell_type": "markdown",
   "metadata": {},
   "source": [
    "## Data Preparation\n",
    "Here we will split the iMIS guide in to chunks to prepare for inserting into the vector DB."
   ]
  },
  {
   "cell_type": "code",
   "execution_count": 5,
   "metadata": {
    "tags": []
   },
   "outputs": [
    {
     "name": "stdout",
     "output_type": "stream",
     "text": [
      "Split 70 pages into 136 chunks.\n"
     ]
    }
   ],
   "source": [
    "import numpy as np\n",
    "from langchain.text_splitter import  RecursiveCharacterTextSplitter\n",
    "from langchain.document_loaders import PyPDFLoader\n",
    "\n",
    "loader = PyPDFLoader(\"data/imis_guide.pdf\")\n",
    "pages = loader.load()\n",
    "\n",
    "# - in our testing Character split works better with this PDF data set\n",
    "text_splitter = RecursiveCharacterTextSplitter(  \n",
    "    chunk_size = 1000,\n",
    "    chunk_overlap  = 100,\n",
    ")\n",
    "docs = text_splitter.split_documents(pages)\n",
    "\n",
    "print(f\"Split {len(pages)} pages into {len(docs)} chunks.\")"
   ]
  },
  {
   "cell_type": "markdown",
   "metadata": {},
   "source": [
    "We can check the size of the document chunks."
   ]
  },
  {
   "cell_type": "code",
   "execution_count": 7,
   "metadata": {
    "tags": []
   },
   "outputs": [
    {
     "name": "stdout",
     "output_type": "stream",
     "text": [
      "Average length among 70 pages loaded is 1451 characters.\n",
      "After the split we have 136 chunks more than the original 70.\n",
      "Average length among 136 chunks (after split) is 762 characters.\n"
     ]
    }
   ],
   "source": [
    "avg_doc_length = lambda documents: sum([len(doc.page_content) for doc in documents])//len(documents)\n",
    "avg_char_count_pre = avg_doc_length(pages)\n",
    "avg_char_count_post = avg_doc_length(docs)\n",
    "print(f'Average length among {len(pages)} pages loaded is {avg_char_count_pre} characters.')\n",
    "print(f'After the split we have {len(docs)} chunks more than the original {len(pages)}.')\n",
    "print(f'Average length among {len(docs)} chunks (after split) is {avg_char_count_post} characters.')"
   ]
  },
  {
   "cell_type": "markdown",
   "metadata": {},
   "source": [
    "This is what an example of an embedding looks like using Amazon Bedrock"
   ]
  },
  {
   "cell_type": "code",
   "execution_count": 8,
   "metadata": {
    "tags": []
   },
   "outputs": [
    {
     "name": "stdout",
     "output_type": "stream",
     "text": [
      "Sample embedding of a document chunk:  [ 0.10449219 -0.1484375  -0.31835938 ...  0.18554688 -0.38867188\n",
      " -0.484375  ]\n",
      "Size of the embedding:  (1536,)\n"
     ]
    }
   ],
   "source": [
    "try:\n",
    "    sample_embedding = np.array(bedrock_embeddings.embed_query(docs[0].page_content))\n",
    "    print(\"Sample embedding of a document chunk: \", sample_embedding)\n",
    "    print(\"Size of the embedding: \", sample_embedding.shape)\n",
    "\n",
    "except ValueError as error:\n",
    "    if  \"AccessDeniedException\" in str(error):\n",
    "        print(f\"\\x1b[41m{error}\\\n",
    "        \\nTo troubeshoot this issue please refer to the following resources.\\\n",
    "         \\nhttps://docs.aws.amazon.com/IAM/latest/UserGuide/troubleshoot_access-denied.html\\\n",
    "         \\nhttps://docs.aws.amazon.com/bedrock/latest/userguide/security-iam.html\\x1b[0m\\n\")      \n",
    "        class StopExecution(ValueError):\n",
    "            def _render_traceback_(self):\n",
    "                pass\n",
    "        raise StopExecution        \n",
    "    else:\n",
    "        raise error"
   ]
  },
  {
   "cell_type": "markdown",
   "metadata": {},
   "source": [
    "## Save to FAISS\n",
    "Here we will save the chunks into FAISS"
   ]
  },
  {
   "cell_type": "code",
   "execution_count": 9,
   "metadata": {
    "tags": []
   },
   "outputs": [],
   "source": [
    "from langchain.vectorstores import FAISS\n",
    "from langchain.indexes.vectorstore import VectorStoreIndexWrapper\n",
    "\n",
    "vectorstore_faiss = FAISS.from_documents(docs, bedrock_embeddings)\n",
    "\n",
    "wrapper_store_faiss = VectorStoreIndexWrapper(vectorstore=vectorstore_faiss)"
   ]
  },
  {
   "cell_type": "markdown",
   "metadata": {},
   "source": [
    "## Question Answering\n",
    "We can ask our vector store (FAISS) to retrieve similar documents based on a question.  This is what the vector response looks like."
   ]
  },
  {
   "cell_type": "code",
   "execution_count": 10,
   "metadata": {
    "tags": []
   },
   "outputs": [
    {
     "data": {
      "text/plain": [
       "array([ 0.359375  , -0.27929688,  0.24511719, ...,  0.13671875,\n",
       "       -0.5859375 ,  0.17871094])"
      ]
     },
     "execution_count": 10,
     "metadata": {},
     "output_type": "execute_result"
    }
   ],
   "source": [
    "query = \"\"\"When are comments required?\"\"\"\n",
    "query_embedding = vectorstore_faiss.embedding_function.embed_query(query)\n",
    "np.array(query_embedding)"
   ]
  },
  {
   "cell_type": "markdown",
   "metadata": {},
   "source": [
    "When we query the vector store we can retrieve the chunks of the document that were referenced by the similarity search."
   ]
  },
  {
   "cell_type": "code",
   "execution_count": 11,
   "metadata": {
    "tags": []
   },
   "outputs": [
    {
     "name": "stdout",
     "output_type": "stream",
     "text": [
      "4 documents are fetched which are relevant to the query.\n",
      "----\n",
      "## Document 1: 18 | P a g e  \n",
      "  \n",
      " \n",
      "      Comments  \n",
      " \n",
      "Comments are used to provide information that is not captured elsewhere in the system.  \n",
      "E.g., “John Smith has a pre -existing breakdown on a 2003 Toyota Camry.  Advised him that he will be covered for \n",
      "this tow at the Basic coverage level, even though he purchased Plus.”  \n",
      "When you add a Comment you have the option of also making this comment an ‘Alert’.   \n",
      "1.) If there is a comment with an alert, it will be more prominent on the  HH Profile  \n",
      "2.) Comments with alerts will be indicated on integrated systems e.g., D2000, AX etc.  \n",
      " \n",
      " \n",
      "Only the Comment Title and the Date it was added will b e \n",
      "displayed on the HH Profile. To view comment details, double \n",
      "click on Comment and be redirected to Comments in HH \n",
      "Maintenance.                                \n",
      " \n",
      " \n",
      " \n",
      " \n",
      " \n",
      " \n",
      " \n",
      " \n",
      "Comment s are written to H istory at the time the comment is created.  If you add an end date to the comment and.......\n",
      "---\n",
      "## Document 2: 19 | P a g e  \n",
      "  \n",
      "When are Comments Required?  \n",
      " \n",
      "Areas that require comments are noted throughout this docum ent, but here is a full listing:  \n",
      " \n",
      "Moves  \n",
      " Swap  Primary &  Associate but not cancelling the former Primary  \n",
      " ATP move without changing the address or adding a wrong address flag to either HH  \n",
      "Transfer In  \n",
      " Manual Transfer In (not using the Transfer In Wizard) b/c status will be F instead of T  \n",
      "Roadside  \n",
      " Pre-existing co ndition (new membership or  upgrading)  \n",
      "Payments  \n",
      " Leaving a HH in Partial Paid/Collect status  (taking a partial payment only)  \n",
      " Leaving a HH in Prospect or Unpaid status (not taking payment)  \n",
      " Mailing a postdated cheque to PCC to hold for processing date  \n",
      " \n",
      "Creation of a 2nd iMIS ID  (intentional)  \n",
      " Transfer In that was previously an AMA Member  \n",
      " Converting a Child to an Associate before they are 16 years old  \n",
      " ASSUME - where the person taking over has a suspended or cancelled membership.......\n",
      "---\n",
      "## Document 3: that end date is reached, the comment will still be accessible to read in History.  \n",
      "Comments converted from Axis, however, will not be displayed in History until they are edited or removed.   Only \n",
      "Membership support can edit or remove comments converted from Axis........\n",
      "---\n",
      "## Document 4: Check ID  \n",
      "Do Not ask for DOB  \n",
      "Preferred Name  \n",
      " \n",
      "Some Flags are designed to be alerts  as well.  Unlike a comment, you do not have to ‘set’ them as an alert. They \n",
      "will automatically show as an alert and a flag when the flag is created.  \n",
      " Check ID  \n",
      "Some Flags also require a note at the time they are added.  \n",
      " Check  \n",
      " \n",
      "When are flags or comments required?  \n",
      " Pre-existing breakdown requiring immediate RSA services (above Basic)  \n",
      " Leaving a HH in Partial Paid/Collect status  (taking a partial payment only)  \n",
      " Leaving a HH in Prospect or Unpaid status (not taking payment).......\n",
      "---\n"
     ]
    }
   ],
   "source": [
    "relevant_documents = vectorstore_faiss.similarity_search_by_vector(query_embedding)\n",
    "print(f'{len(relevant_documents)} documents are fetched which are relevant to the query.')\n",
    "print('----')\n",
    "for i, rel_doc in enumerate(relevant_documents):\n",
    "    print(f'## Document {i+1}: {rel_doc.page_content}.......')\n",
    "    print('---')"
   ]
  },
  {
   "cell_type": "markdown",
   "metadata": {},
   "source": [
    "### Generating the response with Amazon Bedrock\n",
    "We can build the prompt template, feed in our context from the vector store along with the question, to generate a response from the LLM."
   ]
  },
  {
   "cell_type": "code",
   "execution_count": 12,
   "metadata": {
    "tags": []
   },
   "outputs": [
    {
     "name": "stderr",
     "output_type": "stream",
     "text": [
      "c:\\Users\\eric.bach.CORP\\AppData\\Local\\Programs\\Python\\Python310\\lib\\site-packages\\langchain_core\\_api\\deprecation.py:117: LangChainDeprecationWarning: The function `__call__` was deprecated in LangChain 0.1.0 and will be removed in 0.2.0. Use invoke instead.\n",
      "  warn_deprecated(\n"
     ]
    },
    {
     "name": "stdout",
     "output_type": "stream",
     "text": [
      "{'query': 'When are comments required?', 'result': ' Based on the context provided, comments are\n",
      "required in the following situations:\\n\\n- Moves:\\n- Swapping Primary & Associate members but not\n",
      "cancelling the former Primary \\n- ATP move without changing the address or adding a wrong address\n",
      "flag to either household\\n\\n- Transfer In: \\n- Manual Transfer In (not using the Transfer In Wizard)\n",
      "because status will be F instead of T\\n\\n- Roadside:\\n- Pre-existing condition (new membership or\n",
      "upgrading)\\n\\n- Payments:  \\n- Leaving a household in Partial Paid/Collect status (taking a partial\n",
      "payment only)\\n- Leaving a household in Prospect or Unpaid status (not taking payment)\\n- Mailing a\n",
      "postdated cheque to PCC to hold for processing date\\n\\n- Creation of a 2nd iMIS ID (intentional):\\n-\n",
      "Transfer In that was previously an AMA Member \\n- Converting a Child to an Associate before they are\n",
      "16 years', 'source_documents': [Document(page_content='18 | P a g e  \\n  \\n \\n      Comments  \\n\n",
      "\\nComments are used to provide information that is not captured elsewhere in the system.  \\nE.g.,\n",
      "“John Smith has a pre -existing breakdown on a 2003 Toyota Camry.  Advised him that he will be\n",
      "covered for \\nthis tow at the Basic coverage level, even though he purchased Plus.”  \\nWhen you add\n",
      "a Comment you have the option of also making this comment an ‘Alert’.   \\n1.) If there is a comment\n",
      "with an alert, it will be more prominent on the  HH Profile  \\n2.) Comments with alerts will be\n",
      "indicated on integrated systems e.g., D2000, AX etc.  \\n \\n \\nOnly the Comment Title and the Date it\n",
      "was added will b e \\ndisplayed on the HH Profile. To view comment details, double \\nclick on Comment\n",
      "and be redirected to Comments in HH \\nMaintenance.                                \\n \\n \\n \\n \\n \\n\n",
      "\\n \\n \\nComment s are written to H istory at the time the comment is created.  If you add an end\n",
      "date to the comment and', metadata={'source': 'data/imis_guide.pdf', 'page': 17}),\n",
      "Document(page_content='19 | P a g e  \\n  \\nWhen are Comments Required?  \\n \\nAreas that require\n",
      "comments are noted throughout this docum ent, but here is a full listing:  \\n \\nMoves  \\n\\uf0b7 Swap\n",
      "Primary &  Associate but not cancelling the former Primary  \\n\\uf0b7 ATP move without changing the\n",
      "address or adding a wrong address flag to either HH  \\nTransfer In  \\n\\uf0b7 Manual Transfer In (not\n",
      "using the Transfer In Wizard) b/c status will be F instead of T  \\nRoadside  \\n\\uf0b7 Pre-existing\n",
      "co ndition (new membership or  upgrading)  \\nPayments  \\n\\uf0b7 Leaving a HH in Partial Paid/Collect\n",
      "status  (taking a partial payment only)  \\n\\uf0b7 Leaving a HH in Prospect or Unpaid status (not\n",
      "taking payment)  \\n\\uf0b7 Mailing a postdated cheque to PCC to hold for processing date  \\n\n",
      "\\nCreation of a 2nd iMIS ID  (intentional)  \\n\\uf0b7 Transfer In that was previously an AMA Member\n",
      "\\n\\uf0b7 Converting a Child to an Associate before they are 16 years old  \\n\\uf0b7 ASSUME - where\n",
      "the person taking over has a suspended or cancelled membership', metadata={'source':\n",
      "'data/imis_guide.pdf', 'page': 18}), Document(page_content='that end date is reached, the comment\n",
      "will still be accessible to read in History.  \\nComments converted from Axis, however, will not be\n",
      "displayed in History until they are edited or removed.   Only \\nMembership support can edit or\n",
      "remove comments converted from Axis.', metadata={'source': 'data/imis_guide.pdf', 'page': 17})]}\n"
     ]
    }
   ],
   "source": [
    "from langchain.prompts import PromptTemplate\n",
    "from langchain.chains import RetrievalQA\n",
    "\n",
    "prompt_template = \"\"\"\n",
    "\n",
    "Human: Use the following pieces of context to provide a concise answer to the question at the end. If you don't know the answer, just say that you don't know, don't try to make up an answer.\n",
    "<context>\n",
    "{context}\n",
    "</context\n",
    "\n",
    "Question: {question}\n",
    "\n",
    "Assistant:\"\"\"\n",
    "\n",
    "PROMPT = PromptTemplate(\n",
    "    template=prompt_template, input_variables=[\"context\", \"question\"]\n",
    ")\n",
    "\n",
    "qa = RetrievalQA.from_chain_type(\n",
    "    llm=llm,\n",
    "    chain_type=\"stuff\",\n",
    "    retriever=vectorstore_faiss.as_retriever(search_type=\"similarity\", search_kwargs={\"k\": 3}),\n",
    "    return_source_documents=True,\n",
    "    chain_type_kwargs={\"prompt\": PROMPT}\n",
    ")\n",
    "\n",
    "answer = qa({\"query\": query})\n",
    "print_ww(answer)"
   ]
  },
  {
   "cell_type": "markdown",
   "metadata": {},
   "source": [
    "Let's ask a different question and output the result with reference to the pages in the original PDF source. "
   ]
  },
  {
   "cell_type": "code",
   "execution_count": 13,
   "metadata": {
    "tags": []
   },
   "outputs": [
    {
     "name": "stdout",
     "output_type": "stream",
     "text": [
      " Based on the context provided, the main difference between eBill and email address is:\n",
      "\n",
      "eBill refers to the electronic/paperless billing option that replaces the paper renewal bill sent\n",
      "out approximately 1 month prior to a member's AMA membership expiry date.\n",
      "\n",
      "Email address refers to a member's email contact information. The context indicates you may need to\n",
      "verify both eBill preferences and email address when making updates for a member.\n"
     ]
    },
    {
     "data": {
      "text/plain": [
       "[Document(page_content='15 | P a g e  \\n  \\n‘eBill’ is different from ‘Email.’ If you are making updates to eBill or an email address, ensure that you’re asking the \\nMember if both should be updated.   \\n                           \\n \\nCards & Bills  \\nYou may order ad hoc C ards and Bills for members if required. You may either order Cards for the entire HH by \\nselecting Household Card , or for an individual (s) by selecting Individual Card.  \\n                                              \\n \\n \\n       Household Card E xpiry  \\n \\nCards have a 3 year expiry and we print this replacement  date on the card.  If you order cards for any reason the system \\nwill automatically check to see if the HH card expiry date is within 6 months from today.  If it is, it will not only order t he \\ncard(s) you are requesting, it will advance the card expiry dat e by 3 years and order new cards for the entire HH.  \\n \\nIf this HH has a donor and requested  ‘Cards to:  Donor’, all 3 year replacement cards are automatically sent to the', metadata={'source': 'data/imis_guide.pdf', 'page': 14}),\n",
       " Document(page_content='47 | P a g e  \\n Address Types  \\nThe Membership System  can use and/or store the following address types:    \\n\\uf0b7 Home or Mailing  \\n\\uf0b7 Future  \\n\\uf0b7 Center  \\n\\uf0b7 1x Address  \\n\\uf0b7 Donor  \\n \\n \\n \\nMailing  address  is the default unless the Donor  has indicated that bills and/or cards be redirected to them.  If this is \\nthe case , the 3 year replacement cards and/or the annual renewal bills will be sent t o the Donor’s mailing address.  \\nEverything else will continue to be sent to ‘Mailing’ for that Household (mid -year card request, Westworld, etc.).   \\nSometimes members will ask to have their replacement card sent to a 1x alternate address  if they are out of town \\ntemporarily.   \\n \\nIf a Member has been having trouble receiving their mail at their home address , but they have confirmed that we \\ndo have the correct address on file, w e can redirect their cards to an AMA Center  of the Member’s choice.', metadata={'source': 'data/imis_guide.pdf', 'page': 46}),\n",
       " Document(page_content='14 | P a g e  \\n If the ACCR cardholder is a Donor  and the Donor fails to pay for the Membership (E.g., Credit card is expired), the \\nDonor will be removed before the 2nd reminder bill is sent and the bill will be sent to the mai ling address of the \\nrecipient.  \\nACCR Opt in on the payment screen  \\nWhen you select Visa or MasterCard as a pay method either the Opt in ACCR button appears (for counter staff \\nand Lethbridge PCC) or the Opt in ACCR check box appears  (for membership support) . \\n \\nCounter and Lethbridge PCC  \\n  \\n \\nMembership Support  \\n \\n \\nFor all staff channels, the payment will be applied on the screen without the necessity of being redirected to \\nMoneris.  \\n      \\neBill  \\n \\nGoing paperless is important to a lot of Members and we provide this option for their AMA renewal bill.  eBill \\nreplaces the 1st bill which is sent out approx. 1 month prior to their expiry date.  If payment is not received by the', metadata={'source': 'data/imis_guide.pdf', 'page': 13})]"
      ]
     },
     "execution_count": 13,
     "metadata": {},
     "output_type": "execute_result"
    }
   ],
   "source": [
    "query_2 = \"What is the difference between eBill and email address?\"\n",
    "\n",
    "answer_2 = qa({\"query\": query_2})\n",
    "\n",
    "#print_ww(answer_2)\n",
    "print_ww(answer_2['result'])\n",
    "answer_2['source_documents']"
   ]
  }
 ],
 "metadata": {
  "availableInstances": [
   {
    "_defaultOrder": 0,
    "_isFastLaunch": true,
    "category": "General purpose",
    "gpuNum": 0,
    "hideHardwareSpecs": false,
    "memoryGiB": 4,
    "name": "ml.t3.medium",
    "vcpuNum": 2
   },
   {
    "_defaultOrder": 1,
    "_isFastLaunch": false,
    "category": "General purpose",
    "gpuNum": 0,
    "hideHardwareSpecs": false,
    "memoryGiB": 8,
    "name": "ml.t3.large",
    "vcpuNum": 2
   },
   {
    "_defaultOrder": 2,
    "_isFastLaunch": false,
    "category": "General purpose",
    "gpuNum": 0,
    "hideHardwareSpecs": false,
    "memoryGiB": 16,
    "name": "ml.t3.xlarge",
    "vcpuNum": 4
   },
   {
    "_defaultOrder": 3,
    "_isFastLaunch": false,
    "category": "General purpose",
    "gpuNum": 0,
    "hideHardwareSpecs": false,
    "memoryGiB": 32,
    "name": "ml.t3.2xlarge",
    "vcpuNum": 8
   },
   {
    "_defaultOrder": 4,
    "_isFastLaunch": true,
    "category": "General purpose",
    "gpuNum": 0,
    "hideHardwareSpecs": false,
    "memoryGiB": 8,
    "name": "ml.m5.large",
    "vcpuNum": 2
   },
   {
    "_defaultOrder": 5,
    "_isFastLaunch": false,
    "category": "General purpose",
    "gpuNum": 0,
    "hideHardwareSpecs": false,
    "memoryGiB": 16,
    "name": "ml.m5.xlarge",
    "vcpuNum": 4
   },
   {
    "_defaultOrder": 6,
    "_isFastLaunch": false,
    "category": "General purpose",
    "gpuNum": 0,
    "hideHardwareSpecs": false,
    "memoryGiB": 32,
    "name": "ml.m5.2xlarge",
    "vcpuNum": 8
   },
   {
    "_defaultOrder": 7,
    "_isFastLaunch": false,
    "category": "General purpose",
    "gpuNum": 0,
    "hideHardwareSpecs": false,
    "memoryGiB": 64,
    "name": "ml.m5.4xlarge",
    "vcpuNum": 16
   },
   {
    "_defaultOrder": 8,
    "_isFastLaunch": false,
    "category": "General purpose",
    "gpuNum": 0,
    "hideHardwareSpecs": false,
    "memoryGiB": 128,
    "name": "ml.m5.8xlarge",
    "vcpuNum": 32
   },
   {
    "_defaultOrder": 9,
    "_isFastLaunch": false,
    "category": "General purpose",
    "gpuNum": 0,
    "hideHardwareSpecs": false,
    "memoryGiB": 192,
    "name": "ml.m5.12xlarge",
    "vcpuNum": 48
   },
   {
    "_defaultOrder": 10,
    "_isFastLaunch": false,
    "category": "General purpose",
    "gpuNum": 0,
    "hideHardwareSpecs": false,
    "memoryGiB": 256,
    "name": "ml.m5.16xlarge",
    "vcpuNum": 64
   },
   {
    "_defaultOrder": 11,
    "_isFastLaunch": false,
    "category": "General purpose",
    "gpuNum": 0,
    "hideHardwareSpecs": false,
    "memoryGiB": 384,
    "name": "ml.m5.24xlarge",
    "vcpuNum": 96
   },
   {
    "_defaultOrder": 12,
    "_isFastLaunch": false,
    "category": "General purpose",
    "gpuNum": 0,
    "hideHardwareSpecs": false,
    "memoryGiB": 8,
    "name": "ml.m5d.large",
    "vcpuNum": 2
   },
   {
    "_defaultOrder": 13,
    "_isFastLaunch": false,
    "category": "General purpose",
    "gpuNum": 0,
    "hideHardwareSpecs": false,
    "memoryGiB": 16,
    "name": "ml.m5d.xlarge",
    "vcpuNum": 4
   },
   {
    "_defaultOrder": 14,
    "_isFastLaunch": false,
    "category": "General purpose",
    "gpuNum": 0,
    "hideHardwareSpecs": false,
    "memoryGiB": 32,
    "name": "ml.m5d.2xlarge",
    "vcpuNum": 8
   },
   {
    "_defaultOrder": 15,
    "_isFastLaunch": false,
    "category": "General purpose",
    "gpuNum": 0,
    "hideHardwareSpecs": false,
    "memoryGiB": 64,
    "name": "ml.m5d.4xlarge",
    "vcpuNum": 16
   },
   {
    "_defaultOrder": 16,
    "_isFastLaunch": false,
    "category": "General purpose",
    "gpuNum": 0,
    "hideHardwareSpecs": false,
    "memoryGiB": 128,
    "name": "ml.m5d.8xlarge",
    "vcpuNum": 32
   },
   {
    "_defaultOrder": 17,
    "_isFastLaunch": false,
    "category": "General purpose",
    "gpuNum": 0,
    "hideHardwareSpecs": false,
    "memoryGiB": 192,
    "name": "ml.m5d.12xlarge",
    "vcpuNum": 48
   },
   {
    "_defaultOrder": 18,
    "_isFastLaunch": false,
    "category": "General purpose",
    "gpuNum": 0,
    "hideHardwareSpecs": false,
    "memoryGiB": 256,
    "name": "ml.m5d.16xlarge",
    "vcpuNum": 64
   },
   {
    "_defaultOrder": 19,
    "_isFastLaunch": false,
    "category": "General purpose",
    "gpuNum": 0,
    "hideHardwareSpecs": false,
    "memoryGiB": 384,
    "name": "ml.m5d.24xlarge",
    "vcpuNum": 96
   },
   {
    "_defaultOrder": 20,
    "_isFastLaunch": false,
    "category": "General purpose",
    "gpuNum": 0,
    "hideHardwareSpecs": true,
    "memoryGiB": 0,
    "name": "ml.geospatial.interactive",
    "supportedImageNames": [
     "sagemaker-geospatial-v1-0"
    ],
    "vcpuNum": 0
   },
   {
    "_defaultOrder": 21,
    "_isFastLaunch": true,
    "category": "Compute optimized",
    "gpuNum": 0,
    "hideHardwareSpecs": false,
    "memoryGiB": 4,
    "name": "ml.c5.large",
    "vcpuNum": 2
   },
   {
    "_defaultOrder": 22,
    "_isFastLaunch": false,
    "category": "Compute optimized",
    "gpuNum": 0,
    "hideHardwareSpecs": false,
    "memoryGiB": 8,
    "name": "ml.c5.xlarge",
    "vcpuNum": 4
   },
   {
    "_defaultOrder": 23,
    "_isFastLaunch": false,
    "category": "Compute optimized",
    "gpuNum": 0,
    "hideHardwareSpecs": false,
    "memoryGiB": 16,
    "name": "ml.c5.2xlarge",
    "vcpuNum": 8
   },
   {
    "_defaultOrder": 24,
    "_isFastLaunch": false,
    "category": "Compute optimized",
    "gpuNum": 0,
    "hideHardwareSpecs": false,
    "memoryGiB": 32,
    "name": "ml.c5.4xlarge",
    "vcpuNum": 16
   },
   {
    "_defaultOrder": 25,
    "_isFastLaunch": false,
    "category": "Compute optimized",
    "gpuNum": 0,
    "hideHardwareSpecs": false,
    "memoryGiB": 72,
    "name": "ml.c5.9xlarge",
    "vcpuNum": 36
   },
   {
    "_defaultOrder": 26,
    "_isFastLaunch": false,
    "category": "Compute optimized",
    "gpuNum": 0,
    "hideHardwareSpecs": false,
    "memoryGiB": 96,
    "name": "ml.c5.12xlarge",
    "vcpuNum": 48
   },
   {
    "_defaultOrder": 27,
    "_isFastLaunch": false,
    "category": "Compute optimized",
    "gpuNum": 0,
    "hideHardwareSpecs": false,
    "memoryGiB": 144,
    "name": "ml.c5.18xlarge",
    "vcpuNum": 72
   },
   {
    "_defaultOrder": 28,
    "_isFastLaunch": false,
    "category": "Compute optimized",
    "gpuNum": 0,
    "hideHardwareSpecs": false,
    "memoryGiB": 192,
    "name": "ml.c5.24xlarge",
    "vcpuNum": 96
   },
   {
    "_defaultOrder": 29,
    "_isFastLaunch": true,
    "category": "Accelerated computing",
    "gpuNum": 1,
    "hideHardwareSpecs": false,
    "memoryGiB": 16,
    "name": "ml.g4dn.xlarge",
    "vcpuNum": 4
   },
   {
    "_defaultOrder": 30,
    "_isFastLaunch": false,
    "category": "Accelerated computing",
    "gpuNum": 1,
    "hideHardwareSpecs": false,
    "memoryGiB": 32,
    "name": "ml.g4dn.2xlarge",
    "vcpuNum": 8
   },
   {
    "_defaultOrder": 31,
    "_isFastLaunch": false,
    "category": "Accelerated computing",
    "gpuNum": 1,
    "hideHardwareSpecs": false,
    "memoryGiB": 64,
    "name": "ml.g4dn.4xlarge",
    "vcpuNum": 16
   },
   {
    "_defaultOrder": 32,
    "_isFastLaunch": false,
    "category": "Accelerated computing",
    "gpuNum": 1,
    "hideHardwareSpecs": false,
    "memoryGiB": 128,
    "name": "ml.g4dn.8xlarge",
    "vcpuNum": 32
   },
   {
    "_defaultOrder": 33,
    "_isFastLaunch": false,
    "category": "Accelerated computing",
    "gpuNum": 4,
    "hideHardwareSpecs": false,
    "memoryGiB": 192,
    "name": "ml.g4dn.12xlarge",
    "vcpuNum": 48
   },
   {
    "_defaultOrder": 34,
    "_isFastLaunch": false,
    "category": "Accelerated computing",
    "gpuNum": 1,
    "hideHardwareSpecs": false,
    "memoryGiB": 256,
    "name": "ml.g4dn.16xlarge",
    "vcpuNum": 64
   },
   {
    "_defaultOrder": 35,
    "_isFastLaunch": false,
    "category": "Accelerated computing",
    "gpuNum": 1,
    "hideHardwareSpecs": false,
    "memoryGiB": 61,
    "name": "ml.p3.2xlarge",
    "vcpuNum": 8
   },
   {
    "_defaultOrder": 36,
    "_isFastLaunch": false,
    "category": "Accelerated computing",
    "gpuNum": 4,
    "hideHardwareSpecs": false,
    "memoryGiB": 244,
    "name": "ml.p3.8xlarge",
    "vcpuNum": 32
   },
   {
    "_defaultOrder": 37,
    "_isFastLaunch": false,
    "category": "Accelerated computing",
    "gpuNum": 8,
    "hideHardwareSpecs": false,
    "memoryGiB": 488,
    "name": "ml.p3.16xlarge",
    "vcpuNum": 64
   },
   {
    "_defaultOrder": 38,
    "_isFastLaunch": false,
    "category": "Accelerated computing",
    "gpuNum": 8,
    "hideHardwareSpecs": false,
    "memoryGiB": 768,
    "name": "ml.p3dn.24xlarge",
    "vcpuNum": 96
   },
   {
    "_defaultOrder": 39,
    "_isFastLaunch": false,
    "category": "Memory Optimized",
    "gpuNum": 0,
    "hideHardwareSpecs": false,
    "memoryGiB": 16,
    "name": "ml.r5.large",
    "vcpuNum": 2
   },
   {
    "_defaultOrder": 40,
    "_isFastLaunch": false,
    "category": "Memory Optimized",
    "gpuNum": 0,
    "hideHardwareSpecs": false,
    "memoryGiB": 32,
    "name": "ml.r5.xlarge",
    "vcpuNum": 4
   },
   {
    "_defaultOrder": 41,
    "_isFastLaunch": false,
    "category": "Memory Optimized",
    "gpuNum": 0,
    "hideHardwareSpecs": false,
    "memoryGiB": 64,
    "name": "ml.r5.2xlarge",
    "vcpuNum": 8
   },
   {
    "_defaultOrder": 42,
    "_isFastLaunch": false,
    "category": "Memory Optimized",
    "gpuNum": 0,
    "hideHardwareSpecs": false,
    "memoryGiB": 128,
    "name": "ml.r5.4xlarge",
    "vcpuNum": 16
   },
   {
    "_defaultOrder": 43,
    "_isFastLaunch": false,
    "category": "Memory Optimized",
    "gpuNum": 0,
    "hideHardwareSpecs": false,
    "memoryGiB": 256,
    "name": "ml.r5.8xlarge",
    "vcpuNum": 32
   },
   {
    "_defaultOrder": 44,
    "_isFastLaunch": false,
    "category": "Memory Optimized",
    "gpuNum": 0,
    "hideHardwareSpecs": false,
    "memoryGiB": 384,
    "name": "ml.r5.12xlarge",
    "vcpuNum": 48
   },
   {
    "_defaultOrder": 45,
    "_isFastLaunch": false,
    "category": "Memory Optimized",
    "gpuNum": 0,
    "hideHardwareSpecs": false,
    "memoryGiB": 512,
    "name": "ml.r5.16xlarge",
    "vcpuNum": 64
   },
   {
    "_defaultOrder": 46,
    "_isFastLaunch": false,
    "category": "Memory Optimized",
    "gpuNum": 0,
    "hideHardwareSpecs": false,
    "memoryGiB": 768,
    "name": "ml.r5.24xlarge",
    "vcpuNum": 96
   },
   {
    "_defaultOrder": 47,
    "_isFastLaunch": false,
    "category": "Accelerated computing",
    "gpuNum": 1,
    "hideHardwareSpecs": false,
    "memoryGiB": 16,
    "name": "ml.g5.xlarge",
    "vcpuNum": 4
   },
   {
    "_defaultOrder": 48,
    "_isFastLaunch": false,
    "category": "Accelerated computing",
    "gpuNum": 1,
    "hideHardwareSpecs": false,
    "memoryGiB": 32,
    "name": "ml.g5.2xlarge",
    "vcpuNum": 8
   },
   {
    "_defaultOrder": 49,
    "_isFastLaunch": false,
    "category": "Accelerated computing",
    "gpuNum": 1,
    "hideHardwareSpecs": false,
    "memoryGiB": 64,
    "name": "ml.g5.4xlarge",
    "vcpuNum": 16
   },
   {
    "_defaultOrder": 50,
    "_isFastLaunch": false,
    "category": "Accelerated computing",
    "gpuNum": 1,
    "hideHardwareSpecs": false,
    "memoryGiB": 128,
    "name": "ml.g5.8xlarge",
    "vcpuNum": 32
   },
   {
    "_defaultOrder": 51,
    "_isFastLaunch": false,
    "category": "Accelerated computing",
    "gpuNum": 1,
    "hideHardwareSpecs": false,
    "memoryGiB": 256,
    "name": "ml.g5.16xlarge",
    "vcpuNum": 64
   },
   {
    "_defaultOrder": 52,
    "_isFastLaunch": false,
    "category": "Accelerated computing",
    "gpuNum": 4,
    "hideHardwareSpecs": false,
    "memoryGiB": 192,
    "name": "ml.g5.12xlarge",
    "vcpuNum": 48
   },
   {
    "_defaultOrder": 53,
    "_isFastLaunch": false,
    "category": "Accelerated computing",
    "gpuNum": 4,
    "hideHardwareSpecs": false,
    "memoryGiB": 384,
    "name": "ml.g5.24xlarge",
    "vcpuNum": 96
   },
   {
    "_defaultOrder": 54,
    "_isFastLaunch": false,
    "category": "Accelerated computing",
    "gpuNum": 8,
    "hideHardwareSpecs": false,
    "memoryGiB": 768,
    "name": "ml.g5.48xlarge",
    "vcpuNum": 192
   },
   {
    "_defaultOrder": 55,
    "_isFastLaunch": false,
    "category": "Accelerated computing",
    "gpuNum": 8,
    "hideHardwareSpecs": false,
    "memoryGiB": 1152,
    "name": "ml.p4d.24xlarge",
    "vcpuNum": 96
   },
   {
    "_defaultOrder": 56,
    "_isFastLaunch": false,
    "category": "Accelerated computing",
    "gpuNum": 8,
    "hideHardwareSpecs": false,
    "memoryGiB": 1152,
    "name": "ml.p4de.24xlarge",
    "vcpuNum": 96
   }
  ],
  "instance_type": "ml.t3.medium",
  "kernelspec": {
   "display_name": "Python 3",
   "language": "python",
   "name": "python3"
  },
  "language_info": {
   "codemirror_mode": {
    "name": "ipython",
    "version": 3
   },
   "file_extension": ".py",
   "mimetype": "text/x-python",
   "name": "python",
   "nbconvert_exporter": "python",
   "pygments_lexer": "ipython3",
   "version": "3.10.11"
  }
 },
 "nbformat": 4,
 "nbformat_minor": 4
}
