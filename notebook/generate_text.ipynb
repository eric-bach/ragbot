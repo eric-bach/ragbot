{
 "cells": [
  {
   "cell_type": "code",
   "execution_count": 1,
   "metadata": {},
   "outputs": [],
   "source": [
    "import boto3, json\n",
    "\n",
    "session = boto3.Session(profile_name='bach-dev', region_name='us-east-1')\n",
    "boto3_bedrock = session.client(service_name='bedrock-runtime')"
   ]
  },
  {
   "cell_type": "code",
   "execution_count": 20,
   "metadata": {},
   "outputs": [],
   "source": [
    "from io import StringIO\n",
    "import sys\n",
    "import textwrap\n",
    "\n",
    "def print_ww(*args, width: int = 200, **kwargs):\n",
    "    \"\"\"Like print(), but wraps output to `width` characters (default 100)\"\"\"\n",
    "    buffer = StringIO()\n",
    "    try:\n",
    "        _stdout = sys.stdout\n",
    "        sys.stdout = buffer\n",
    "        print(*args, **kwargs)\n",
    "        output = buffer.getvalue()\n",
    "    finally:\n",
    "        sys.stdout = _stdout\n",
    "    for line in output.splitlines():\n",
    "        print(\"\\n\".join(textwrap.wrap(line, width=width)))"
   ]
  },
  {
   "cell_type": "code",
   "execution_count": 18,
   "metadata": {},
   "outputs": [
    {
     "name": "stdout",
     "output_type": "stream",
     "text": [
      "{'modelId': 'anthropic.claude-v2', 'body': '{\"prompt\": \"\\\\n\\\\nHuman:What is the difference between\n",
      "ebill and email address?\\\\n\\\\nAssistant:\", \"max_tokens_to_sample\": 512, \"temperature\": 0.8, \"top_p\":\n",
      "0.8}', 'accept': 'application/json', 'contentType': 'application/json'}\n"
     ]
    }
   ],
   "source": [
    "model_id = \"anthropic.claude-v2\"\n",
    "\n",
    "prompt_data = \"What is the difference between ebill and email address?\"\n",
    "\n",
    "payload = {\n",
    "    \"prompt\": f\"\\n\\nHuman:{prompt_data}\\n\\nAssistant:\",\n",
    "    \"max_tokens_to_sample\": 512,\n",
    "    \"temperature\": 0.8,\n",
    "    \"top_p\": 0.8\n",
    "}\n",
    "body = json.dumps(payload)\n",
    "\n",
    "kwargs = {\n",
    "    \"modelId\": model_id,\n",
    "    \"body\": body,\n",
    "    \"accept\": \"application/json\",\n",
    "    \"contentType\": \"application/json\"\n",
    "}\n",
    "\n",
    "print_ww(kwargs)"
   ]
  },
  {
   "cell_type": "code",
   "execution_count": 24,
   "metadata": {},
   "outputs": [
    {
     "name": "stdout",
     "output_type": "stream",
     "text": [
      "{'completion': \" The main differences between an ebill and an email address are:\\n\\n- Ebill - An ebill is a digital bill or invoice that is sent electronically rather than through postal mail. It\n",
      "allows companies to deliver bills directly to customers via email or by posting them to an online account. Ebills contain billing information like amount due, due date, etc.\\n\\n- Email address - An\n",
      "email address is an identifier that allows you to send and receive emails. It consists of a username (before the @ symbol) and a domain name (after the @ symbol). For example: john.doe@email.com. The\n",
      "email address is where ebills and other emails can be received electronically.\\n\\nIn summary:\\n\\n- An ebill is a digital billing document that contains invoice details. It is sent to a recipient's\n",
      "email address. \\n\\n- An email address is the destination where emails and ebills can be delivered electronically. The email address doesn't contain any billing information itself.\\n\\nSo an ebill is\n",
      "the actual bill, while the email address is where the ebill is sent to be received digitally by the recipient. The email address enables paperless billing by allowing bills to be delivered\n",
      "electronically instead of by postal mail.\", 'stop_reason': 'stop_sequence', 'stop': '\\n\\nHuman:'}\n",
      " The main differences between an ebill and an email address are:\n",
      "\n",
      "- Ebill - An ebill is a digital bill or invoice that is sent electronically rather than through postal mail. It allows companies to deliver bills directly to customers via email or by posting them to\n",
      "an online account. Ebills contain billing information like amount due, due date, etc.\n",
      "\n",
      "- Email address - An email address is an identifier that allows you to send and receive emails. It consists of a username (before the @ symbol) and a domain name (after the @ symbol). For example:\n",
      "john.doe@email.com. The email address is where ebills and other emails can be received electronically.\n",
      "\n",
      "In summary:\n",
      "\n",
      "- An ebill is a digital billing document that contains invoice details. It is sent to a recipient's email address.\n",
      "\n",
      "- An email address is the destination where emails and ebills can be delivered electronically. The email address doesn't contain any billing information itself.\n",
      "\n",
      "So an ebill is the actual bill, while the email address is where the ebill is sent to be received digitally by the recipient. The email address enables paperless billing by allowing bills to be\n",
      "delivered electronically instead of by postal mail.\n"
     ]
    }
   ],
   "source": [
    "response = boto3_bedrock.invoke_model(**kwargs)\n",
    "body = json.loads(response.get('body').read())\n",
    "completion = body.get('completion')\n",
    "\n",
    "print_ww(completion)"
   ]
  }
 ],
 "metadata": {
  "kernelspec": {
   "display_name": "Python 3",
   "language": "python",
   "name": "python3"
  },
  "language_info": {
   "codemirror_mode": {
    "name": "ipython",
    "version": 3
   },
   "file_extension": ".py",
   "mimetype": "text/x-python",
   "name": "python",
   "nbconvert_exporter": "python",
   "pygments_lexer": "ipython3",
   "version": "3.10.11"
  }
 },
 "nbformat": 4,
 "nbformat_minor": 2
}
